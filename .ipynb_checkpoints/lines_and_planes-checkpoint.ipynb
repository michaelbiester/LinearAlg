{
 "cells": [
  {
   "cell_type": "markdown",
   "id": "5573465c-00cf-4059-90cd-95be2bd63da8",
   "metadata": {},
   "source": [
    "# Lines and Planes\n",
    "\n",
    "In this notebook I follow the steps described in the book\n",
    "\n",
    "No Bullshit guide to Linear Algebra , Ivan Savov\n",
    "\n",
    "Starting with chapter 4 of that book geometrical aspects of linear algebra are discussed.\n",
    "\n",
    "___\n"
   ]
  },
  {
   "cell_type": "markdown",
   "id": "4f55d313-6e60-4a12-ba9e-d700833f9c67",
   "metadata": {},
   "source": [
    "## Points\n",
    "\n",
    "A point in 3 D is represented by a set of three coordinate values $p_x,\\ p_y,\\ p_z$. Equivalently the point is represented by a vector $\\mathbf{p}$.\n",
    "\n",
    "$$\n",
    "\\mathbf{p} = \n",
    "\\left[\n",
    "\\begin{array}{c}\n",
    "p_x \\\\ p_y \\\\ p_z\n",
    "\\end{array}\n",
    "\\right]\n",
    "$$\n",
    "\n",
    "---"
   ]
  },
  {
   "cell_type": "markdown",
   "id": "b3a9df90-2d3b-4efa-9e6b-4cd4c9a86e16",
   "metadata": {},
   "source": [
    "## Lines\n",
    "\n",
    "There several ways a line in 3D can be expressed:\n",
    "\n",
    "**parametric equation**\n",
    "\n",
    "$$\n",
    "\\left[\n",
    "\\begin{array}{c}\n",
    "x \\\\ y \\\\ y\n",
    "\\end{array}\n",
    "\\right] = \\mathbf{p} + t \\cdot \\mathbf{v}\n",
    "$$\n",
    "\n",
    "$-\\infty \\lt t \\lt \\infty$\n",
    "\n",
    "\n",
    "Using the parametric equation of a line the *symmetric equation* is obtained:\n",
    "\n",
    "**symmetric equation**\n",
    "\n",
    "$$\\begin{gather}\n",
    "x = p_x + t \\cdot v_x \\\\\n",
    "y = p_y + t \\cdot v_y \\\\\n",
    "z = p_z + t \\cdot v_z \\\\\n",
    "\\ \\\\\n",
    "\\frac{x - p_x}{v_x} = t \\\\\n",
    "\\frac{y - p_y}{v_y} = t \\\\\n",
    "\\frac{z - p_z}{v_z} = t \\\\ \n",
    "\\ \\\\\n",
    "\\frac{x - p_x}{v_x} = \\frac{y - p_y}{v_y} = \\frac{z - p_z}{v_z}\n",
    "\\end{gather}\n",
    "$$"
   ]
  },
  {
   "cell_type": "code",
   "execution_count": null,
   "id": "db69496f-01c1-4297-ae74-dd0533659f7a",
   "metadata": {},
   "outputs": [],
   "source": []
  }
 ],
 "metadata": {
  "kernelspec": {
   "display_name": "Python 3 (ipykernel)",
   "language": "python",
   "name": "python3"
  },
  "language_info": {
   "codemirror_mode": {
    "name": "ipython",
    "version": 3
   },
   "file_extension": ".py",
   "mimetype": "text/x-python",
   "name": "python",
   "nbconvert_exporter": "python",
   "pygments_lexer": "ipython3",
   "version": "3.11.5"
  }
 },
 "nbformat": 4,
 "nbformat_minor": 5
}
