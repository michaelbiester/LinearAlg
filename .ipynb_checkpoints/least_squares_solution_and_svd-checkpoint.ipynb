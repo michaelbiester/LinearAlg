{
 "cells": [
  {
   "cell_type": "markdown",
   "id": "e4486ff9-a2b6-4007-8158-dd3fdb295bdc",
   "metadata": {},
   "source": [
    "# Least Squares and SVD\n",
    "\n",
    "\n",
    "\n",
    "Sources:\n",
    "\n",
    "`Matrix Methods for Computational Modeling and Data Analytics` author: Mark Embree, Virginia Tech\n"
   ]
  },
  {
   "cell_type": "markdown",
   "id": "220251b6-c87f-4c2c-ab74-258f4b3fee31",
   "metadata": {},
   "source": [
    "A solution of the linear system\n",
    "\n",
    "$$\n",
    "\\mathbf{A} \\cdot \\mathbf{x} = \\mathbf{b}\n",
    "$$\n",
    "\n",
    "can be found if $\\mathbf{b}$ is in the column space of $\\mathbf{A}$. Or expressed otherwise:\n",
    "\n",
    "$$\n",
    "\\mathbf{b} \\in R(\\mathbf{A})\n",
    "$$\n",
    "\n",
    "For the more general case $\\mathbf{b} \\not\\in R(\\mathbf{A})$ we are interested in a solution which minimises $||\\mathbf{b} -  \\mathbf{A} \\mathbf{x}||$.\n",
    "\n",
    "The vector space $\\mathbb{R}^m$ of which $\\mathbf{b}$ is a vector is the sum of column space $R(\\mathbf{A})$ and left null space $N(\\mathbf{A}^T)$.\n",
    "\n",
    "$$\n",
    "\\mathbb{R}^m = R(\\mathbf{A}) \\oplus N(\\mathbf{A}^T)\n",
    "$$\n",
    "\n",
    "This allows us to decompose vector $\\mathbf{b}$ into a part $\\mathbf{b}_R$ in $R(\\mathbf{A})$ and a orthogonal part $\\mathbf{b}_N$ in $N(\\mathbf{A}^T)$.\n",
    "\n",
    "$$\n",
    "\\mathbf{b} = \\mathbf{b}_R + \\mathbf{b}_N\n",
    "$$\n",
    "\n",
    "With these notation the linear system can be formulated in terms of these vectors:\n",
    "\n",
    "$$\n",
    "\\mathbf{b} - \\mathbf{A} \\mathbf{x} = \\mathbf{b}_R + \\mathbf{b}_N - \\mathbf{A} \\mathbf{x} = \\left(\\mathbf{b}_R - \\mathbf{A} \\mathbf{x} \\right) + \\mathbf{b}_N\n",
    "$$\n",
    "\n",
    "The quadratic norm is computed:\n",
    "\n",
    "$$\\begin{gather}\n",
    "||\\mathbf{b} - \\mathbf{A} \\mathbf{x} ||^2 = \\left(\\left(\\mathbf{b}_R - \\mathbf{A} \\mathbf{x} \\right) + \\mathbf{b}_N \\right)^T \\cdot \\left(\\left(\\mathbf{b}_R - \\mathbf{A} \\mathbf{x} \\right) + \\mathbf{b}_N \\right) \\\\\n",
    "\\ = ||\\mathbf{b}_R - \\mathbf{A} \\mathbf{x}||^2 + ||\\mathbf{b}_N||^2 - 2 \\underbrace{\\left(\\mathbf{b}_R - \\mathbf{A} \\mathbf{x} \\right)^T \\cdot \\mathbf{b}_N}_{orthogornality} \\\\\n",
    "\\ = ||\\mathbf{b}_R - \\mathbf{A} \\mathbf{x}||^2 + ||\\mathbf{b}_N||^2\n",
    "\\end{gather}\n",
    "$$\n",
    "\n",
    "Minimising $||\\mathbf{b} - \\mathbf{A} \\mathbf{x} ||$ is then equivalent to minimise $||\\mathbf{b}_R - \\mathbf{A} \\mathbf{x}||$. And this is equivalent to find the solution of\n",
    "\n",
    "$$\n",
    "\\mathbf{A} \\mathbf{x} = \\mathbf{b}_R\n",
    "$$"
   ]
  },
  {
   "cell_type": "code",
   "execution_count": null,
   "id": "7efc78fa-cfaa-4942-9081-b0bff11c8931",
   "metadata": {},
   "outputs": [],
   "source": []
  }
 ],
 "metadata": {
  "kernelspec": {
   "display_name": "Python 3 (ipykernel)",
   "language": "python",
   "name": "python3"
  },
  "language_info": {
   "codemirror_mode": {
    "name": "ipython",
    "version": 3
   },
   "file_extension": ".py",
   "mimetype": "text/x-python",
   "name": "python",
   "nbconvert_exporter": "python",
   "pygments_lexer": "ipython3",
   "version": "3.11.5"
  }
 },
 "nbformat": 4,
 "nbformat_minor": 5
}
